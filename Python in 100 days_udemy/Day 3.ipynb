{
 "cells": [
  {
   "cell_type": "code",
   "execution_count": 2,
   "metadata": {},
   "outputs": [
    {
     "name": "stdout",
     "output_type": "stream",
     "text": [
      "Welcome to the rollercoaster!\n",
      "Ready to ride the rollercoaster! \n"
     ]
    }
   ],
   "source": [
    "#Conditional Statements #Comparison Operator \n",
    "\n",
    "print(\"Welcome to the rollercoaster!\")\n",
    "height = int(input(\"What is your height in cm ? \"))\n",
    "\n",
    "if height >= 120:\n",
    "    print(\"Ready to ride the rollercoaster! \")\n",
    "else:\n",
    "    print(\"Not ready to ride the rollercoaster! Grow taller and come back\")"
   ]
  },
  {
   "cell_type": "code",
   "execution_count": 3,
   "metadata": {},
   "outputs": [
    {
     "name": "stdout",
     "output_type": "stream",
     "text": [
      "This is an even number.\n"
     ]
    }
   ],
   "source": [
    "# Which number do you want to check?\n",
    "number = int(input())\n",
    "\n",
    "# If the number can be divided by 2 with 0 remainder.\n",
    "if number % 2 == 0:\n",
    "  print(\"This is an even number.\")\n",
    "# Otherwise (number cannot be divided by 2 with 0 remainder).\n",
    "else:\n",
    "  print(\"This is an odd number.\")"
   ]
  },
  {
   "cell_type": "code",
   "execution_count": 6,
   "metadata": {},
   "outputs": [
    {
     "name": "stdout",
     "output_type": "stream",
     "text": [
      "Welcome to the rollercoaster!\n",
      "Ready to ride the rollercoaster! \n",
      "Please pay $7.\n"
     ]
    }
   ],
   "source": [
    "#Nested if/else condition \n",
    "\n",
    "print(\"Welcome to the rollercoaster!\")\n",
    "height = int(input(\"What is your height in cm ? \"))\n",
    "\n",
    "if height >= 120:\n",
    "    print(\"Ready to ride the rollercoaster! \")\n",
    "    age = int(input(\"What is your age ? \"))\n",
    "    if age <=18:\n",
    "        print(\"Please pay $7.\")\n",
    "    else: \n",
    "        print('Please pay $12.')\n",
    "else:\n",
    "    print(\"Not ready to ride the rollercoaster! Grow taller and come back\")"
   ]
  },
  {
   "cell_type": "code",
   "execution_count": 13,
   "metadata": {},
   "outputs": [
    {
     "name": "stdout",
     "output_type": "stream",
     "text": [
      "Welcome to the rollercoaster!\n",
      "Ready to ride the rollercoaster! \n",
      "Please pay $12.\n"
     ]
    }
   ],
   "source": [
    "#Nested if/else condition/ elif coniditon \n",
    "\n",
    "print(\"Welcome to the rollercoaster!\")\n",
    "height = int(input(\"What is your height in cm ? \"))\n",
    "\n",
    "if height >= 120:\n",
    "    print(\"Ready to ride the rollercoaster! \")\n",
    "    age = int(input(\"What is your age ? \"))\n",
    "    if age <12:\n",
    "        print(\"Please pay $5.\")\n",
    "    elif age<=18 :\n",
    "        print(\"Please pay $7\")\n",
    "    else: \n",
    "        print('Please pay $12.')\n",
    "else:\n",
    "    print(\"Not ready to ride the rollercoaster! Grow taller and come back\")"
   ]
  },
  {
   "cell_type": "markdown",
   "metadata": {},
   "source": [
    "Instructions\n",
    "\n",
    "Write a program that interprets the Body Mass Index (BMI) based on a user's weight and height.\n",
    "\n",
    "It should tell them the interpretation of their BMI based on the BMI value.\n",
    "\n",
    "Under 18.5 they are underweight\n",
    "Equal to or over 18.5 but below 25 they have a normal weight\n",
    "Equal to or over 25 but below 30 they are slightly overweight\n",
    "Equal to or over 30 but below 35 they are obese\n",
    "Equal to or over 35 they are clinically obese."
   ]
  },
  {
   "cell_type": "code",
   "execution_count": 17,
   "metadata": {},
   "outputs": [
    {
     "name": "stdout",
     "output_type": "stream",
     "text": [
      "Your BMI is 22.59814049586777, you have a normal weight.\n"
     ]
    }
   ],
   "source": [
    "#BIM Calculator \n",
    "# Enter your height in meters e.g., 1.55\n",
    "height = float(input())\n",
    "# Enter your weight in kilograms e.g., 72\n",
    "weight = int(input())\n",
    "# 🚨 Don't change the code above 👆\n",
    "\n",
    "#Write your code below this line 👇\n",
    "bmi = weight/height**2\n",
    "if bmi < 18.5:\n",
    "  print(f\"Your BMI is {bmi}, you are underweight.\")\n",
    "elif bmi < 25:\n",
    "  print(f\"Your BMI is {bmi}, you have a normal weight.\")\n",
    "elif bmi <30: \n",
    "  print(f\"Your BMI is {bmi}, you are slightly overweight.\")\n",
    "elif bmi <=35:\n",
    "  print(f\"Your BMI is {bmi}, you are obese.\")\n",
    "else:\n",
    "  print(f\"Your BMI is {bmi}, you are clinically obese.\")\n"
   ]
  },
  {
   "cell_type": "markdown",
   "metadata": {},
   "source": [
    "Instructions\n",
    "💪 This is a difficult challenge! 💪\n",
    "\n",
    "Write a program that works out whether if a given year is a leap year. A normal year has 365 days, leap years have 366, with an extra day in February. The reason why we have leap years is really fascinating, this video does it more justice.\n",
    "\n",
    "This is how you work out whether if a particular year is a leap year.\n",
    "\n",
    "on every year that is divisible by 4 with no remainder\n",
    "\n",
    "except every year that is evenly divisible by 100 with no remainder\n",
    "\n",
    "unless the year is also divisible by 400 with no remainder\n",
    "\n",
    "If english is not your first language or if the above logic is confusing, try using this flow chart .\n",
    "\n",
    "e.g. The year 2000:\n",
    "\n",
    "2000 ÷ 4 = 500 (Leap)\n",
    "\n",
    "2000 ÷ 100 = 20 (Not Leap)\n",
    "\n",
    "2000 ÷ 400 = 5 (Leap!)\n",
    "\n",
    "So the year 2000 is a leap year.\n",
    "\n",
    "But the year 2100 is not a leap year because:\n",
    "\n",
    "2100 ÷ 4 = 525 (Leap)\n",
    "\n",
    "2100 ÷ 100 = 21 (Not Leap)\n",
    "\n",
    "2100 ÷ 400 = 5.25 (Not Leap)"
   ]
  },
  {
   "cell_type": "code",
   "execution_count": 18,
   "metadata": {},
   "outputs": [
    {
     "name": "stdout",
     "output_type": "stream",
     "text": [
      "Leap year\n"
     ]
    }
   ],
   "source": [
    "#Leap Year\n",
    "# Which year do you want to check?\n",
    "year = int(input())\n",
    "# 🚨 Don't change the code above 👆\n",
    "\n",
    "# Write your code below this line 👇\n",
    "if year%4 ==0:\n",
    "  if year%100 != 0:\n",
    "    print(\"Leap year\")\n",
    "  elif year%400 ==0:\n",
    "    print(\"Leap Year\")\n",
    "  else:\n",
    "    print(\"Not leap year\")\n",
    "else:\n",
    "  print(\"Not leap year\")"
   ]
  },
  {
   "cell_type": "code",
   "execution_count": 20,
   "metadata": {},
   "outputs": [
    {
     "name": "stdout",
     "output_type": "stream",
     "text": [
      "Welcome to the rollercoaster!\n",
      "Ready to ride the rollercoaster! \n",
      "Adult tickets are $12.\n",
      "Your final bill is 15\n"
     ]
    }
   ],
   "source": [
    "#Mutiple If Statements in Succession \n",
    "\n",
    "print(\"Welcome to the rollercoaster!\")\n",
    "height = int(input(\"What is your height in cm ? \"))\n",
    "\n",
    "if height >= 120:\n",
    "    print(\"Ready to ride the rollercoaster! \")\n",
    "    age = int(input(\"What is your age ? \"))\n",
    "    photo_or_not = input(\"Do you want a photo taken ? Y or No \")\n",
    "\n",
    "    if age <12:\n",
    "        bill = 5\n",
    "        print(\"Child Tickets are $5.\")\n",
    "    elif age<=18 :\n",
    "        bill = 7\n",
    "        print(\"Youth tickets are $7\")\n",
    "    else: \n",
    "        bill = 12\n",
    "        print('Adult tickets are $12.')\n",
    "\n",
    "    if photo_or_not == \"Y\":\n",
    "        bill+=3\n",
    "    \n",
    "    print(f\"Your final bill is {bill}\")\n",
    "else:\n",
    "    print(\"Not ready to ride the rollercoaster! Grow taller and come back\")"
   ]
  },
  {
   "cell_type": "code",
   "execution_count": 24,
   "metadata": {},
   "outputs": [
    {
     "name": "stdout",
     "output_type": "stream",
     "text": [
      "Thank you for choosing Python Pizza Deliveries!\n",
      "Thank you for choosing Python Pizza Deliveries! \n",
      "Your final bill is: $18\n"
     ]
    }
   ],
   "source": [
    "print(\"Thank you for choosing Python Pizza Deliveries!\")\n",
    "size = input() # What size pizza do you want? S, M, or L\n",
    "add_pepperoni = input() # Do you want pepperoni? Y or N\n",
    "extra_cheese = input() # Do you want extra cheese? Y or N\n",
    "# 🚨 Don't change the code above 👆\n",
    "# Write your code below this line 👇\n",
    "\n",
    "if size == \"S\":\n",
    "  bill = 15\n",
    "  if add_pepperoni ==\"Y\":\n",
    "    bill+=2\n",
    "elif size == \"M\":\n",
    "  bill = 20\n",
    "  if add_pepperoni == \"Y\":\n",
    "    bill+=3\n",
    "elif size == \"L\":\n",
    "  bill = 25\n",
    "  if add_pepperoni == \"Y\":\n",
    "    bill+=3\n",
    "if extra_cheese == \"Y\":\n",
    "  bill+=1\n",
    "\n",
    "print(f\"Your final bill is: ${bill}\")"
   ]
  },
  {
   "cell_type": "code",
   "execution_count": 25,
   "metadata": {},
   "outputs": [
    {
     "name": "stdout",
     "output_type": "stream",
     "text": [
      "Thank you for choosing Python Pizza Deliveries!\n",
      "Your final bill is: $18.\n"
     ]
    }
   ],
   "source": [
    "# More efficient way of doing it I guesss (From the solution key)\n",
    "\n",
    "print(\"Thank you for choosing Python Pizza Deliveries!\")\n",
    "size = input()  # What size pizza do you want? \"S\", \"M\", or \"L\"\n",
    "add_pepperoni = input()  # Do you want pepperoni? \"Y\" or \"N\"\n",
    "extra_cheese = input()  # Do you want extra cheese? \"Y\" or \"N\"\n",
    "\n",
    "# Your code below this line 👇\n",
    "bill = 0\n",
    "if size == \"S\":\n",
    "  bill += 15\n",
    "elif size == \"M\":\n",
    "  bill += 20\n",
    "else:\n",
    "  bill += 25\n",
    "\n",
    "if add_pepperoni == \"Y\":\n",
    "  if size == \"S\":\n",
    "    bill += 2\n",
    "  else:\n",
    "    bill += 3\n",
    "\n",
    "if extra_cheese == \"Y\":\n",
    "  bill += 1\n",
    "\n",
    "print(f\"Your final bill is: ${bill}.\")"
   ]
  },
  {
   "cell_type": "code",
   "execution_count": 28,
   "metadata": {},
   "outputs": [
    {
     "name": "stdout",
     "output_type": "stream",
     "text": [
      "Welcome to the rollercoaster!\n",
      "Ready to ride the rollercoaster! \n",
      "Free ride!\n"
     ]
    }
   ],
   "source": [
    "#Logical Operators And, OR, Not \n",
    "\n",
    "print(\"Welcome to the rollercoaster!\")\n",
    "height = int(input(\"What is your height in cm ? \"))\n",
    "\n",
    "if height >= 120:\n",
    "    print(\"Ready to ride the rollercoaster! \")\n",
    "    age = int(input(\"What is your age ? \"))\n",
    "    if age <12:\n",
    "        print(\"Please pay $5.\")\n",
    "    elif age<=18 :\n",
    "        print(\"Please pay $7\")\n",
    "    elif age > 45 and age < 55:\n",
    "        print(\"Free ride!\")\n",
    "    else: \n",
    "        print('Please pay $12.')\n",
    "else:\n",
    "    print(\"Not ready to ride the rollercoaster! Grow taller and come back\")"
   ]
  },
  {
   "cell_type": "markdown",
   "metadata": {},
   "source": [
    "Instructions\n",
    "💪 This is a difficult challenge! 💪\n",
    "\n",
    "You are going to write a program that tests the compatibility between two people.\n",
    "\n",
    "To work out the love score between two people:\n",
    "\n",
    "Take both people's names and check for the number of times the letters in the word TRUE occurs.\n",
    "\n",
    "Then check for the number of times the letters in the word LOVE occurs.\n",
    "\n",
    "Then combine these numbers to make a 2 digit number.\n",
    "\n",
    "For Love Scores less than 10 or greater than 90, the message should be:\n",
    "\n",
    "\"Your score is *x*, you go together like coke and mentos.\"\n",
    "For Love Scores between 40 and 50, the message should be:\n",
    "\n",
    "\"Your score is *y*, you are alright together.\"\n",
    "Otherwise, the message will just be their score. e.g.:\n",
    "\n",
    "\"Your score is *z*.\"\n",
    "e.g.\n",
    "\n",
    "name1 = \"Angela Yu\"\n",
    "name2 = \"Jack Bauer\"\n",
    "T occurs 0 times\n",
    "\n",
    "R occurs 1 time\n",
    "\n",
    "U occurs 2 times\n",
    "\n",
    "E occurs 2 times\n",
    "\n",
    "Total = 5\n",
    "\n",
    "L occurs 1 time\n",
    "\n",
    "O occurs 0 times\n",
    "\n",
    "V occurs 0 times\n",
    "\n",
    "E occurs 2 times\n",
    "\n",
    "Total = 3\n",
    "\n",
    "Love Score = 53\n",
    "\n",
    "Print: \"Your score is 53.\"\n",
    "\n",
    "These functions will help you:\n",
    "\n",
    "lower() count()\n",
    "\n",
    "Example Input 1\n",
    "\n",
    "Kanye West\n",
    "Kim Kardashian\n",
    "Example Output 1\n",
    "\n",
    "The Love Calculator is calculating your score...\n",
    "Your score is 42, you are alright together.\n",
    "Example Input 2\n",
    "\n",
    "Brad Pitt\n",
    "Jennifer Aniston\n",
    "Example Output 2\n",
    "\n",
    "The Love Calculator is calculating your score...\n",
    "Your score is 73."
   ]
  },
  {
   "cell_type": "code",
   "execution_count": null,
   "metadata": {},
   "outputs": [],
   "source": []
  }
 ],
 "metadata": {
  "kernelspec": {
   "display_name": "Python 3",
   "language": "python",
   "name": "python3"
  },
  "language_info": {
   "codemirror_mode": {
    "name": "ipython",
    "version": 3
   },
   "file_extension": ".py",
   "mimetype": "text/x-python",
   "name": "python",
   "nbconvert_exporter": "python",
   "pygments_lexer": "ipython3",
   "version": "3.12.2"
  }
 },
 "nbformat": 4,
 "nbformat_minor": 2
}
